{
 "cells": [
  {
   "cell_type": "code",
   "execution_count": null,
   "metadata": {},
   "outputs": [],
   "source": [
    "import numpy as np\n",
    "import matplotlib.pyplot as plt\n",
    "from scipy.io.wavfile import read, write\n",
    "from scipy.signal import butter, cheby1, filtfilt, lfilter, ellip\n",
    "from IPython.display import Audio\n"
   ]
  },
  {
   "cell_type": "markdown",
   "metadata": {},
   "source": [
    "## Plotting"
   ]
  },
  {
   "cell_type": "code",
   "execution_count": null,
   "metadata": {},
   "outputs": [],
   "source": [
    "def plotSignal(data, title = \"Waveform\"):\n",
    "    plt.figure()\n",
    "    plt.plot(data)\n",
    "    plt.xlabel('Sample Index')\n",
    "    plt.ylabel('Amplitude')\n",
    "    plt.title('Waveform of Test Audio')\n",
    "    plt.show()\n",
    "\n",
    "\n",
    "def plotSignal_Freq(data, fs, title=''):\n",
    "    n = len(data)\n",
    "    fft_data = np.fft.fft(data)\n",
    "    fft_magnitude = np.abs(fft_data) / n\n",
    "    frequencies = np.fft.fftfreq(n, d=1/fs)\n",
    "    fft_magnitude_shifted = np.fft.fftshift(fft_magnitude)\n",
    "    frequencies_shifted = np.fft.fftshift(frequencies)\n",
    "    plt.plot(frequencies_shifted, fft_magnitude_shifted)\n",
    "    plt.title(title)\n",
    "    plt.xlabel('Frequency (Hz)')\n",
    "    plt.ylabel('Amplitude')\n",
    "    plt.show()\n"
   ]
  },
  {
   "cell_type": "markdown",
   "metadata": {},
   "source": [
    "## Filters"
   ]
  },
  {
   "cell_type": "code",
   "execution_count": null,
   "metadata": {},
   "outputs": [],
   "source": [
    "# Low Pass Filters\n",
    "\n",
    "def lowpass_filter_ellip(data, cutoff, fs, order=5, rp=0.1, rs=60):\n",
    "    filter = ellip(order, rp, rs, cutoff, btype='lowpass', fs=fs, output='ba')\n",
    "    return lfilter(*filter, data)\n",
    "\n",
    "\n",
    "def lowpass_filter_butter(data, cutoff, fs, order=5):\n",
    "    filter = butter(order, cutoff, btype='lowpass', fs=fs, output='ba')\n",
    "    return filtfilt(*filter, data)\n",
    "\n",
    "\n",
    "def lowpass_filter_ideal(data, cutoff, fs):\n",
    "    n = len(data)\n",
    "    fft_data = np.fft.fft(data)\n",
    "    frequencies = np.fft.fftfreq(n, d=1/fs)\n",
    "    fft_data[np.abs(frequencies) > cutoff] = 0\n",
    "    return np.real(np.fft.ifft(fft_data))\n",
    "\n",
    "def lowpass_filter_cheby1(data, cutoff, fs, order=5, rp=0.1):\n",
    "    filter = cheby1(order, rp, cutoff, btype='lowpass', fs=fs, output='ba')\n",
    "    return lfilter(*filter, data)\n",
    "\n",
    "# Band Pass Filters\n",
    "\n",
    "def bandpass_filter_ellip(data, begin, end, fs, order=5, rp=0.1, rs=60):\n",
    "    filter = ellip(order, rp, rs, [begin, end], btype='bandpass', fs=fs, output='ba')\n",
    "    return lfilter(*filter, data)\n",
    "\n",
    "def bandpass_filter_butter(data, begin, end, fs, order=5):\n",
    "    filter = butter(order, [begin, end], btype='bandpass', fs=fs, output='ba')\n",
    "    return lfilter(*filter, data)\n",
    "\n",
    "def bandpass_filter_ideal(data, begin, end, fs):\n",
    "    n = len(data)\n",
    "    n = len(data)\n",
    "    fft_data = np.fft.fft(data)\n",
    "    frequencies = np.fft.fftfreq(n, d=1/fs)\n",
    "    fft_data[(np.abs(frequencies) > end) | (np.abs(frequencies) < begin)] = 0\n",
    "    return np.real(np.fft.ifft(fft_data))\n",
    "\n",
    "def bandpass_filter_cheby1(data, begin, end, fs, order=5, rp=0.1):\n",
    "    filter = cheby1(order, rp, [begin, end], btype='bandpass', fs=fs, output='ba')\n",
    "    return lfilter(*filter, data)\n",
    "\n",
    "# Generic Filters\n",
    "\n",
    "def lowpass_filter(data, cutoff, fs, filter_type='butter'):\n",
    "    \n",
    "    if filter_type == 'butter':\n",
    "        return lowpass_filter_butter(data, cutoff, fs)\n",
    "    elif filter_type == 'ideal':\n",
    "        return lowpass_filter_ideal(data, cutoff, fs)\n",
    "    elif filter_type == 'cheby1':\n",
    "        return lowpass_filter_cheby1(data, cutoff, fs)\n",
    "    elif filter_type == 'ellip':\n",
    "        return lowpass_filter_ellip(data, cutoff, fs)\n",
    "    else:\n",
    "        raise ValueError('Invalid filter type')\n",
    "    \n",
    "\n",
    "def bandpass_filter(data, begin, end, fs,  filter_type='butter'):\n",
    "    \n",
    "    if filter_type == 'butter':\n",
    "        return bandpass_filter_butter(data, begin, end, fs)\n",
    "    elif filter_type == 'ideal':\n",
    "        return bandpass_filter_ideal(data, begin, end, fs)\n",
    "    elif filter_type == 'cheby1':\n",
    "        return bandpass_filter_cheby1(data, begin, end, fs)\n",
    "    elif filter_type == 'ellip':\n",
    "        return bandpass_filter_ellip(data, begin, end, fs)\n",
    "    else:\n",
    "        raise ValueError('Invalid filter type')\n"
   ]
  },
  {
   "cell_type": "markdown",
   "metadata": {},
   "source": [
    "## Carrier"
   ]
  },
  {
   "cell_type": "code",
   "execution_count": null,
   "metadata": {},
   "outputs": [],
   "source": [
    "def generate_carrier(fc, fs, duration):\n",
    "    t = np.arange(0, duration, 1/fs)\n",
    "    return np.cos(2*np.pi*fc*t)"
   ]
  },
  {
   "cell_type": "markdown",
   "metadata": {},
   "source": [
    "## Loading Tests"
   ]
  },
  {
   "cell_type": "code",
   "execution_count": null,
   "metadata": {},
   "outputs": [],
   "source": [
    "def loadTests(files, FS, filter_type):\n",
    "    data = []\n",
    "    for file in files:\n",
    "        fs, d = read(file)\n",
    "\n",
    "        ten_seconds = 10 * fs\n",
    "\n",
    "\n",
    "        if fs != FS:\n",
    "            raise ValueError(\"Sampling rate of file does not match the desired sampling rate\")\n",
    "        \n",
    "        d = d[:ten_seconds,0]\n",
    "\n",
    "        filename = file.split('/')[-1]\n",
    "        d = lowpass_filter(d, 3500, fs, filter_type)\n",
    "        # d = bandpass_filter(d, 500, 3200, fs, 'butter')\n",
    "\n",
    "        data.append(d)\n",
    "\n",
    "    return data"
   ]
  },
  {
   "cell_type": "markdown",
   "metadata": {},
   "source": [
    "## SSB "
   ]
  },
  {
   "cell_type": "code",
   "execution_count": null,
   "metadata": {},
   "outputs": [],
   "source": [
    "def modulate(data, fc, fs, maxfreq, filter_type):\n",
    "    carrier = generate_carrier(fc, fs, len(data)/fs)\n",
    "    modulated = data * carrier\n",
    "\n",
    "    return bandpass_filter(modulated, fc, fc + maxfreq , fs, filter_type)\n",
    "\n",
    "\n",
    "def FDM(signals, frequencies, fs, filter_type):\n",
    "    \n",
    "    modulated = np.zeros(len(signals[0]))\n",
    "    for i in range(len(signals)):\n",
    "        modulated_signal = modulate(signals[i], frequencies[i], fs, 3500, filter_type)\n",
    "        modulated += modulated_signal\n",
    "    return modulated\n",
    "\n",
    "def demodulate(data, fc, fs, maxfreq, filter_type):\n",
    "        \n",
    "    filtered_data = bandpass_filter(data, fc, fc + maxfreq, fs, filter_type)\n",
    "\n",
    "    carrier = generate_carrier(fc, fs, len(data)/fs)\n",
    "    demodulated = filtered_data * carrier\n",
    "\n",
    "    return lowpass_filter(demodulated, maxfreq, fs, filter_type)\n",
    "\n"
   ]
  },
  {
   "cell_type": "code",
   "execution_count": null,
   "metadata": {},
   "outputs": [],
   "source": [
    "FS = 48000\n",
    "\n",
    "filter_type = 'butter'\n",
    "\n",
    "files = ['inputs/test1.wav', 'inputs/test2.wav', 'inputs/test3.wav']\n",
    "signals = loadTests(files, FS, filter_type)"
   ]
  },
  {
   "cell_type": "code",
   "execution_count": null,
   "metadata": {},
   "outputs": [],
   "source": [
    "frequencies = [10000, 15000, 20000]\n",
    "filter_type = 'cheby1'\n",
    "\n",
    "modulated = FDM(signals, frequencies, FS, filter_type)\n",
    "\n",
    "plt.figure(figsize=(10,10))\n",
    "\n",
    "plotSignal_Freq(modulated, FS, 'Modulated Signal')\n",
    "plt.savefig('outputs/modulated_signal.png')"
   ]
  },
  {
   "cell_type": "code",
   "execution_count": null,
   "metadata": {},
   "outputs": [],
   "source": [
    "frequencies = [10000, 15000, 20000]\n",
    "\n",
    "filter_type = 'cheby1'\n",
    "\n",
    "signal1 = demodulate(modulated, frequencies[0], FS, 3500, filter_type)\n",
    "signal2 = demodulate(modulated, frequencies[1], FS, 3500, filter_type)\n",
    "signal3 = demodulate(modulated, frequencies[2], FS, 3500, filter_type)"
   ]
  },
  {
   "cell_type": "code",
   "execution_count": null,
   "metadata": {},
   "outputs": [],
   "source": [
    "write('outputs/test1.wav', FS, signal1.astype(np.int16))\n",
    "write('outputs/test2.wav', FS, signal2.astype(np.int16))\n",
    "\n",
    "\n",
    "\n",
    "write('outputs/test3.wav', FS, signal3.astype(np.int16))"
   ]
  },
  {
   "cell_type": "code",
   "execution_count": null,
   "metadata": {},
   "outputs": [],
   "source": [
    "\n",
    "\n",
    "\n"
   ]
  },
  {
   "cell_type": "markdown",
   "metadata": {},
   "source": []
  }
 ],
 "metadata": {
  "kernelspec": {
   "display_name": "ip",
   "language": "python",
   "name": "python3"
  },
  "language_info": {
   "codemirror_mode": {
    "name": "ipython",
    "version": 3
   },
   "file_extension": ".py",
   "mimetype": "text/x-python",
   "name": "python",
   "nbconvert_exporter": "python",
   "pygments_lexer": "ipython3",
   "version": "3.12.7"
  }
 },
 "nbformat": 4,
 "nbformat_minor": 2
}
